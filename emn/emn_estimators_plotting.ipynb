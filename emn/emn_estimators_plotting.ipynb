{
 "cells": [
  {
   "cell_type": "code",
   "execution_count": 15,
   "metadata": {
    "collapsed": false
   },
   "outputs": [
    {
     "name": "stderr",
     "output_type": "stream",
     "text": [
      "/home/syed/anaconda3/lib/python3.5/site-packages/matplotlib/pyplot.py:516: RuntimeWarning: More than 20 figures have been opened. Figures created through the pyplot interface (`matplotlib.pyplot.figure`) are retained until explicitly closed and may consume too much memory. (To control this warning, see the rcParam `figure.max_open_warning`).\n",
      "  max_open_warning, RuntimeWarning)\n"
     ]
    },
    {
     "ename": "AttributeError",
     "evalue": "'Figure' object has no attribute 'close'",
     "output_type": "error",
     "traceback": [
      "\u001b[1;31m---------------------------------------------------------------------------\u001b[0m",
      "\u001b[1;31mAttributeError\u001b[0m                            Traceback (most recent call last)",
      "\u001b[1;32m<ipython-input-15-4cea6154415a>\u001b[0m in \u001b[0;36m<module>\u001b[1;34m()\u001b[0m\n\u001b[0;32m     30\u001b[0m         \u001b[1;31m#plt.show()\u001b[0m\u001b[1;33m\u001b[0m\u001b[1;33m\u001b[0m\u001b[0m\n\u001b[0;32m     31\u001b[0m         \u001b[0mfig\u001b[0m\u001b[1;33m.\u001b[0m\u001b[0msavefig\u001b[0m\u001b[1;33m(\u001b[0m\u001b[1;34m'../final_plots/{0}_{1}_estimators.pdf'\u001b[0m\u001b[1;33m.\u001b[0m\u001b[0mformat\u001b[0m\u001b[1;33m(\u001b[0m\u001b[0mnet_size\u001b[0m\u001b[1;33m,\u001b[0m \u001b[0mloss\u001b[0m\u001b[1;33m)\u001b[0m\u001b[1;33m,\u001b[0m \u001b[0mtype\u001b[0m\u001b[1;33m=\u001b[0m\u001b[1;34m'pdf'\u001b[0m\u001b[1;33m)\u001b[0m\u001b[1;33m\u001b[0m\u001b[0m\n\u001b[1;32m---> 32\u001b[1;33m         \u001b[0mfig\u001b[0m\u001b[1;33m.\u001b[0m\u001b[0mclose\u001b[0m\u001b[1;33m(\u001b[0m\u001b[1;33m)\u001b[0m\u001b[1;33m\u001b[0m\u001b[0m\n\u001b[0m\u001b[0;32m     33\u001b[0m \u001b[1;33m\u001b[0m\u001b[0m\n\u001b[0;32m     34\u001b[0m \u001b[1;31m#fig.savefig('test.pdf', type='pdf')\u001b[0m\u001b[1;33m\u001b[0m\u001b[1;33m\u001b[0m\u001b[0m\n",
      "\u001b[1;31mAttributeError\u001b[0m: 'Figure' object has no attribute 'close'"
     ]
    }
   ],
   "source": [
    "import pandas as pd\n",
    "import matplotlib.pyplot as plt\n",
    "import seaborn as sns\n",
    "from pylab import *\n",
    "\n",
    "losses = ['ten', 'twen','threefive', 'fifty', 'sixty', 'sevenfive', 'nine']\n",
    "net_sizes = [300, 400, 500]\n",
    "\n",
    "for net_size in net_sizes:\n",
    "    mses_name = '../results/ecoli_{0}_mses.txt'.format(net_size)\n",
    "    mses = pd.DataFrame.from_csv(mses_name, sep=',',index_col=0)\n",
    "\n",
    "    for loss in losses:\n",
    "\n",
    "        # implement the example graphs/integral from pyx\n",
    "        \n",
    "        fig = plt.figure()\n",
    "        ax = plt.subplot(111)\n",
    "        bef_name = '{0}_{1}_bef'.format(net_size, loss)\n",
    "        aft_name = '{0}_{1}_aft'.format(net_size, loss)\n",
    "        \n",
    "        plt.plot(mses.index, mses[bef_name], label='All Features')\n",
    "        plt.plot(mses.index, mses[aft_name], label='Reduced Features')\n",
    "        ax.set_xticks(range(100,300, 10))\n",
    "        ax.set_xticklabels(mses.index)\n",
    "        plt.xlabel('Estimators', fontsize=18)\n",
    "        plt.ylabel('Mean Squared Error', fontsize=16)\n",
    "        plt.legend(loc=\"upper right\", shadow=True, fancybox=True)\n",
    "\n",
    "        #plt.show()\n",
    "        fig.savefig('../final_plots/{0}_{1}_estimators.pdf'.format(net_size, loss), type='pdf')\n",
    "        \n",
    "\n",
    "#fig.savefig('test.pdf', type='pdf')"
   ]
  },
  {
   "cell_type": "code",
   "execution_count": null,
   "metadata": {
    "collapsed": true
   },
   "outputs": [],
   "source": []
  }
 ],
 "metadata": {
  "kernelspec": {
   "display_name": "Python 3",
   "language": "python",
   "name": "python3"
  },
  "language_info": {
   "codemirror_mode": {
    "name": "ipython",
    "version": 3
   },
   "file_extension": ".py",
   "mimetype": "text/x-python",
   "name": "python",
   "nbconvert_exporter": "python",
   "pygments_lexer": "ipython3",
   "version": "3.5.2"
  }
 },
 "nbformat": 4,
 "nbformat_minor": 0
}
