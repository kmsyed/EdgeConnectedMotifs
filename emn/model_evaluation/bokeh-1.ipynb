{
 "cells": [
  {
   "cell_type": "code",
   "execution_count": 1,
   "metadata": {
    "collapsed": false
   },
   "outputs": [
    {
     "name": "stderr",
     "output_type": "stream",
     "text": [
      "/home/syed/anaconda3/lib/python3.5/site-packages/bokeh/util/deprecation.py:33: BokehDeprecationWarning: bokeh.io.vplot() was deprecated in Bokeh 0.12.0 and will be removed, use bokeh.models.layouts.Column instead.\n",
      "  warn(message)\n"
     ]
    }
   ],
   "source": [
    "import numpy as np\n",
    "\n",
    "from bokeh.plotting import figure, show, output_file, vplot\n",
    "\n",
    "N = 100\n",
    "\n",
    "x = np.linspace(0, 4*np.pi, N)\n",
    "y = np.sin(x)\n",
    "\n",
    "output_file(\"legend.html\", title=\"legend.py example\")\n",
    "\n",
    "TOOLS = \"pan,wheel_zoom,box_zoom,reset,save,box_select\"\n",
    "\n",
    "p1 = figure(title=\"Legend Example\", tools=TOOLS)\n",
    "\n",
    "p1.circle(x, y, legend=\"sin(x)\")\n",
    "p1.circle(x, 2*y, legend=\"2*sin(x)\", color=\"orange\", )\n",
    "p1.circle(x, 3*y, legend=\"3*sin(x)\", color=\"green\", )\n",
    "\n",
    "p2 = figure(title=\"Another Legend Example\", tools=TOOLS)\n",
    "\n",
    "p2.circle(x, y, legend=\"sin(x)\")\n",
    "p2.line(x, y, legend=\"sin(x)\")\n",
    "\n",
    "p2.line(x, 2*y, legend=\"2*sin(x)\",\n",
    "    line_dash=[4, 4], line_color=\"orange\", line_width=2)\n",
    "\n",
    "p2.square(x, 3*y, legend=\"3*sin(x)\", fill_color=None, line_color=\"green\")\n",
    "p2.line(x, 3*y, legend=\"3*sin(x)\", line_color=\"green\")\n",
    "\n",
    "show(vplot(p1, p2))  # open a browser"
   ]
  },
  {
   "cell_type": "code",
   "execution_count": 2,
   "metadata": {
    "collapsed": false
   },
   "outputs": [
    {
     "name": "stdout",
     "output_type": "stream",
     "text": [
      "p300ten\n",
      "Figure(id='f45633d6-0df5-4f80-980b-283842e00935', ...)\n"
     ]
    }
   ],
   "source": [
    "import numpy as np\n",
    "import pandas as pd\n",
    "from bokeh.plotting import figure, show, output_file, vplot\n",
    "\n",
    "output_file(\"300-legend.html\", title=\"300-legend.py example\")\n",
    "\n",
    "TOOLS = \"pan,wheel_zoom,box_zoom,reset,save,box_select\"\n",
    "\n",
    "net_sizes = [300]#, 400, 500]\n",
    "losses = ['ten']#, 'twen','threefive', 'fifty', 'sixty', 'sevenfive', 'nine']\n",
    "\n",
    "mses_name = '../results/ecoli_{0}_mses.txt'.format(net_sizes[0])\n",
    "mses = pd.DataFrame.from_csv(mses_name, sep=',',index_col=0)\n",
    "\n",
    "plot_dict = {}\n",
    "for net_size in net_sizes:\n",
    "\n",
    "    for loss in losses:\n",
    "\n",
    "        var = 'p%s%s'%(net_sizes[0], loss)\n",
    "        print(var)\n",
    "        plot_dict[var] = figure(title=\"%s %s Estimators\" %(net_sizes[0], loss), tools=TOOLS)\n",
    "\n",
    "        plot_dict[var].line(mses.index, mses['%s_%s_bef'%(net_size,loss)],legend=\"before\", color=\"orange\")\n",
    "        plot_dict[var].line(mses.index, mses['%s_%s_aft'%(net_size,loss)],legend=\"after\", color=\"green\")\n",
    "\n",
    "\n",
    "        print(plot_dict[var])\n",
    "        show(plot_dict[var])\n",
    "\n",
    "\n",
    "#show(vplot(list(plot_dict[k] for k, v in plot_dict.items()))  # open a browser"
   ]
  },
  {
   "cell_type": "code",
   "execution_count": null,
   "metadata": {
    "collapsed": false
   },
   "outputs": [],
   "source": [
    "from __future__ import print_function\n",
    "import os\n",
    "import sys\n",
    "import numpy as np\n",
    "import pandas as pd\n",
    "import matplotlib as mpl\n",
    "from sklearn import datasets\n",
    "import matplotlib.pyplot as plt\n",
    "mpl.style.use('fivethirtyeight')\n",
    "\n",
    "\"\"\"\n",
    "plots heatmap for the feature importances of all 35 models: 35 plots\n",
    "\"\"\"\n",
    "\n",
    "cods_name = '../results/reduced_features.txt'\n",
    "cods = pd.DataFrame.from_csv(cods_name, sep=',',index_col=0)\n",
    "\n",
    "y_labels = cods.columns.values  \n",
    "m, n = 7, 3\n",
    "\n",
    "ax = plt.imshow(cods, interpolation='nearest', cmap='Reds').get_axes()\n",
    "cbar = plt.colorbar()\n",
    "cbar.ax.set_ylabel('Feature importance', rotation=270)\n",
    "\n",
    "#cbar.ax.yaxis.set_label_coords(3.8, 0.5)\n",
    "# reset limit for colorbar\n",
    "#plt.clim(0, 16)\n",
    "\n",
    "plt.xlabel('Network Sizes %')\n",
    "plt.ylabel('Loss %')\n",
    "\n",
    "ax.set_xticks(np.linspace(0, n-1, n))\n",
    "ax.set_xticklabels(y_labels)\n",
    "ax.set_yticks(np.linspace(0, m-1, m))\n",
    "ax.set_yticklabels([10, 20, 35, 50, 60, 75, 90]) # s, rotation=90)\n",
    "ax.grid('off')\n",
    "\n",
    "#plt.savefig(image_name, format='pdf', bbox_inches='tight')\n",
    "plt.show()\n",
    "\n",
    "\n"
   ]
  },
  {
   "cell_type": "code",
   "execution_count": null,
   "metadata": {
    "collapsed": true
   },
   "outputs": [],
   "source": [
    "import numpy as np; np.random.seed(0)\n",
    "import seaborn as sns; sns.set()\n",
    "\n",
    "cods_name = '../results/reduced_features.txt'\n",
    "cods = pd.DataFrame.from_csv(cods_name, sep=',',index_col=0)\n",
    "\n",
    "\n",
    "ax = sns.heatmap(cods)"
   ]
  },
  {
   "cell_type": "code",
   "execution_count": null,
   "metadata": {
    "collapsed": true
   },
   "outputs": [],
   "source": [
    "print('Helloe')"
   ]
  },
  {
   "cell_type": "code",
   "execution_count": null,
   "metadata": {
    "collapsed": true
   },
   "outputs": [],
   "source": []
  }
 ],
 "metadata": {
  "kernelspec": {
   "display_name": "Python 3",
   "language": "python",
   "name": "python3"
  },
  "language_info": {
   "codemirror_mode": {
    "name": "ipython",
    "version": 3
   },
   "file_extension": ".py",
   "mimetype": "text/x-python",
   "name": "python",
   "nbconvert_exporter": "python",
   "pygments_lexer": "ipython3",
   "version": "3.5.2"
  }
 },
 "nbformat": 4,
 "nbformat_minor": 0
}
